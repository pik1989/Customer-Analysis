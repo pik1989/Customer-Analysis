{
  "cells": [
    {
      "cell_type": "markdown",
      "metadata": {
        "id": "jb_h4kaBDkQ3"
      },
      "source": [
        "## Functions"
      ]
    },
    {
      "cell_type": "code",
      "source": [
        "a = 10\n",
        "b = 25\n",
        "c = a+b\n",
        "print(c)"
      ],
      "metadata": {
        "colab": {
          "base_uri": "https://localhost:8080/"
        },
        "id": "22ku7N1EH_Af",
        "outputId": "0a5acc1e-f9c1-4979-b2be-a1bd3f28db66"
      },
      "execution_count": null,
      "outputs": [
        {
          "output_type": "stream",
          "name": "stdout",
          "text": [
            "15\n"
          ]
        }
      ]
    },
    {
      "cell_type": "code",
      "source": [
        "def sum_fn(a,b):\n",
        "  c = a+b\n",
        "  return c"
      ],
      "metadata": {
        "id": "B-HJ7-DCISb_"
      },
      "execution_count": null,
      "outputs": []
    },
    {
      "cell_type": "code",
      "source": [
        "sum_fn(12,25)"
      ],
      "metadata": {
        "colab": {
          "base_uri": "https://localhost:8080/"
        },
        "id": "k7nMSe95IhDf",
        "outputId": "20dbd697-2212-4cb4-896b-fbd994ef359f"
      },
      "execution_count": null,
      "outputs": [
        {
          "output_type": "execute_result",
          "data": {
            "text/plain": [
              "37"
            ]
          },
          "metadata": {},
          "execution_count": 6
        }
      ]
    },
    {
      "cell_type": "code",
      "execution_count": null,
      "metadata": {
        "id": "XvUBgJIQDkQ5"
      },
      "outputs": [],
      "source": [
        "#x = 10\n",
        "\n",
        "def even_or_odd(x):\n",
        "    if x %2 == 0:\n",
        "        print(\"Even\")\n",
        "    else:\n",
        "        print(\"Odd\")"
      ]
    },
    {
      "cell_type": "code",
      "source": [
        "even_or_odd(122)"
      ],
      "metadata": {
        "colab": {
          "base_uri": "https://localhost:8080/"
        },
        "id": "ABi6GhRjJC6t",
        "outputId": "23ef6840-f602-4ba8-bb76-6c247cf06152"
      },
      "execution_count": null,
      "outputs": [
        {
          "output_type": "stream",
          "name": "stdout",
          "text": [
            "Even\n"
          ]
        }
      ]
    },
    {
      "cell_type": "markdown",
      "metadata": {
        "id": "iaQwd2WdDkQ7"
      },
      "source": [
        "#### Factorial"
      ]
    },
    {
      "cell_type": "code",
      "execution_count": null,
      "metadata": {
        "id": "tHtsky9KDkQ8",
        "outputId": "9dabbddd-0ed3-49c7-8f06-e84c31b6b0cf"
      },
      "outputs": [
        {
          "data": {
            "text/plain": [
              "120"
            ]
          },
          "execution_count": 10,
          "metadata": {},
          "output_type": "execute_result"
        }
      ],
      "source": [
        "def fact_number(n):\n",
        "    fact = 1\n",
        "    \n",
        "    for i in range(1,n+1):\n",
        "        fact = fact *i\n",
        "    return fact\n",
        "\n",
        "fact_number(5)"
      ]
    },
    {
      "cell_type": "markdown",
      "metadata": {
        "id": "leLFBqjbDkQ9"
      },
      "source": [
        "#### Sum of all natural numbers till the number provided"
      ]
    },
    {
      "cell_type": "code",
      "execution_count": null,
      "metadata": {
        "id": "7U0mbjNIDkQ9",
        "outputId": "21c9aacb-b4b4-4a3d-b885-96542975fe38"
      },
      "outputs": [
        {
          "data": {
            "text/plain": [
              "6"
            ]
          },
          "execution_count": 17,
          "metadata": {},
          "output_type": "execute_result"
        }
      ],
      "source": [
        "def sum_numbers(n):\n",
        "    num = 0\n",
        "    \n",
        "    for i in range(1,n+1):\n",
        "        num = num+i\n",
        "    return num\n",
        "\n",
        "\n",
        "sum_numbers(3)\n",
        "\n",
        "\n",
        "'''\n",
        "n = 3\n",
        "for i in range(1,4):\n",
        "    num = 0 + 1 --> num = 1\n",
        "    \n",
        "    \n",
        "for i = 2\n",
        "    num = num + i\n",
        "    num = 1 + 2 = 3 --> num = 3\n",
        "    \n",
        "for i = 3\n",
        "    num = num + i\n",
        "    num = 3+3 --> num = 6 --> Returned\n",
        "'''"
      ]
    },
    {
      "cell_type": "code",
      "execution_count": null,
      "metadata": {
        "id": "GHkrlmslDkQ-"
      },
      "outputs": [],
      "source": [
        "def func_1(name, age = 30):\n",
        "    print(\"name: \", name)\n",
        "    print(\"age: \", age)"
      ]
    },
    {
      "cell_type": "code",
      "execution_count": null,
      "metadata": {
        "id": "1mBZt-hUDkQ-",
        "outputId": "b492db04-d2af-4ccc-ed17-e435720c2a49"
      },
      "outputs": [
        {
          "name": "stdout",
          "output_type": "stream",
          "text": [
            "name:  Ravi\n",
            "age:  25\n"
          ]
        }
      ],
      "source": [
        "func_1(\"Ravi\", 25)"
      ]
    },
    {
      "cell_type": "code",
      "execution_count": null,
      "metadata": {
        "id": "GOYpJjdIDkQ-",
        "outputId": "38849777-4a33-405e-89bf-c1d549e70af8"
      },
      "outputs": [
        {
          "name": "stdout",
          "output_type": "stream",
          "text": [
            "name:  Ravi\n",
            "age:  30\n"
          ]
        }
      ],
      "source": [
        "func_1(\"Ravi\")"
      ]
    },
    {
      "cell_type": "markdown",
      "metadata": {
        "id": "kuM-ZiyaDkQ_"
      },
      "source": [
        "### Lambda Functions"
      ]
    },
    {
      "cell_type": "markdown",
      "metadata": {
        "id": "Wh1WGaQ4DkQ_"
      },
      "source": [
        "#### Create a lambda function that adds 10 to the number passed as an arguement, and print the result"
      ]
    },
    {
      "cell_type": "code",
      "execution_count": null,
      "metadata": {
        "id": "G-Xv9cskDkQ_",
        "outputId": "4337eccf-0eef-45a9-fbb0-abcfc0303d3c"
      },
      "outputs": [
        {
          "name": "stdout",
          "output_type": "stream",
          "text": [
            "25\n"
          ]
        }
      ],
      "source": [
        "x = lambda a : a + 20\n",
        "print(x(5))"
      ]
    },
    {
      "cell_type": "markdown",
      "metadata": {
        "id": "gZ-1wXK8DkQ_"
      },
      "source": [
        "#### Create a lambda function that checks a number is even or odd"
      ]
    },
    {
      "cell_type": "code",
      "execution_count": null,
      "metadata": {
        "id": "2BlUzoFhDkRA",
        "outputId": "132b3d3e-beea-4fef-ca2c-ae5b3b6f0084"
      },
      "outputs": [
        {
          "name": "stdout",
          "output_type": "stream",
          "text": [
            "even\n"
          ]
        }
      ],
      "source": [
        "x = lambda a: \"even\" if a % 2==0 else \"odd\"\n",
        "\n",
        "print(x(6))"
      ]
    },
    {
      "cell_type": "markdown",
      "metadata": {
        "id": "u-JJ68hgDkRA"
      },
      "source": [
        "#### Create a lambda function that adds two integers"
      ]
    },
    {
      "cell_type": "code",
      "execution_count": null,
      "metadata": {
        "id": "UAa7uTeiDkRA",
        "outputId": "1262e447-f107-44ec-8f18-1fc267939a80"
      },
      "outputs": [
        {
          "name": "stdout",
          "output_type": "stream",
          "text": [
            "9\n"
          ]
        }
      ],
      "source": [
        "x = lambda a,b: a+b\n",
        "print(x(5,4))"
      ]
    },
    {
      "cell_type": "code",
      "execution_count": null,
      "metadata": {
        "id": "2bKKegECDkRA"
      },
      "outputs": [],
      "source": []
    }
  ],
  "metadata": {
    "kernelspec": {
      "display_name": "Python 3",
      "language": "python",
      "name": "python3"
    },
    "language_info": {
      "codemirror_mode": {
        "name": "ipython",
        "version": 3
      },
      "file_extension": ".py",
      "mimetype": "text/x-python",
      "name": "python",
      "nbconvert_exporter": "python",
      "pygments_lexer": "ipython3",
      "version": "3.7.3"
    },
    "colab": {
      "provenance": []
    }
  },
  "nbformat": 4,
  "nbformat_minor": 0
}