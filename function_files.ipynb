{
  "nbformat": 4,
  "nbformat_minor": 0,
  "metadata": {
    "colab": {
      "provenance": [],
      "collapsed_sections": []
    },
    "kernelspec": {
      "name": "python3",
      "display_name": "Python 3"
    },
    "language_info": {
      "name": "python"
    }
  },
  "cells": [
    {
      "cell_type": "code",
      "execution_count": null,
      "metadata": {
        "id": "D7KuuA-rz7rm"
      },
      "outputs": [],
      "source": []
    },
    {
      "cell_type": "markdown",
      "source": [
        "# Functions And Files"
      ],
      "metadata": {
        "id": "n2EGYIUBz8lY"
      }
    },
    {
      "cell_type": "code",
      "source": [
        "#Python Program to Check if a Number is Odd or Even\n",
        "\n",
        "num=int(input(\"Enter a number for check odd or even: \"))\n",
        "def find_Evenodd(num):\n",
        "    \n",
        "    if(num%2==0):\n",
        "        print(num,\" Is an even\")\n",
        "    else:\n",
        "        print(num,\" is an odd\")\n",
        "find_Evenodd(num)"
      ],
      "metadata": {
        "colab": {
          "base_uri": "https://localhost:8080/"
        },
        "id": "oc_9794-2Vw2",
        "outputId": "bfa5c6bc-ff4e-452c-f992-212522b7ac67"
      },
      "execution_count": null,
      "outputs": [
        {
          "output_type": "stream",
          "name": "stdout",
          "text": [
            "Enter a number for check odd or even: 2\n",
            "2  Is an even\n"
          ]
        }
      ]
    },
    {
      "cell_type": "code",
      "source": [
        "# Python Program to Convert Kilometers to Miles\n",
        "\n",
        "def kilometre_1(km):  \n",
        "    conversion_ratio_1= 0.621371  \n",
        "    miles_1 = km * conversion_ratio_1  \n",
        "    print (\"The speed value of car in Miles: \", miles_1)  \n",
        "km = float (input (\"Please enter the speed of car in Kilometre as a unit: \"))  \n",
        "kilometre_1(km)"
      ],
      "metadata": {
        "colab": {
          "base_uri": "https://localhost:8080/"
        },
        "id": "ZKA9smL41PBX",
        "outputId": "077af047-c6c6-4ee3-fd65-15adced7ef6b"
      },
      "execution_count": null,
      "outputs": [
        {
          "output_type": "stream",
          "name": "stdout",
          "text": [
            "Please enter the speed of car in Kilometre as a unit: 1\n",
            "The speed value of car in Miles:  0.621371\n"
          ]
        }
      ]
    },
    {
      "cell_type": "code",
      "source": [
        "def calculate_hcf(x, y):  \n",
        "    if x > y:  \n",
        "        smaller = y  \n",
        "    else:  \n",
        "        smaller = x  \n",
        "    for i in range(1,smaller + 1):  \n",
        "        if((x % i == 0) and (y % i == 0)):  \n",
        "            hcf = i  \n",
        "    return hcf  \n",
        "  \n",
        "num1 = int(input(\"Enter first number: \"))  \n",
        "num2 = int(input(\"Enter second number: \"))  \n",
        "calculate_hcf(num1, num2)"
      ],
      "metadata": {
        "colab": {
          "base_uri": "https://localhost:8080/"
        },
        "id": "6bdHTq904pCW",
        "outputId": "c897ec3f-f287-48bc-a647-f1e3ac811cdc"
      },
      "execution_count": null,
      "outputs": [
        {
          "name": "stdout",
          "output_type": "stream",
          "text": [
            "Enter first number: 8\n",
            "Enter second number: 12\n"
          ]
        },
        {
          "output_type": "execute_result",
          "data": {
            "text/plain": [
              "4"
            ]
          },
          "metadata": {},
          "execution_count": 11
        }
      ]
    },
    {
      "cell_type": "code",
      "source": [
        "# Python Program to Convert Decimal to Binary, Octal and Hexadecimal\n",
        "\n",
        "#binary\n",
        "def decimal_into_binary(decimal_1):  \n",
        "    decimal = int(decimal_1)  \n",
        "    print (\"Binary number is: \", bin(decimal))  \n",
        "# octal\n",
        "def decimal_into_octal(decimal_1):  \n",
        "    decimal = int(decimal_1)  \n",
        "    print (\"Octal number is: \", oct(decimal))  \n",
        "# hexadecimal  \n",
        "def decimal_into_hexadecimal(decimal_1):  \n",
        "    decimal = int(decimal_1)   \n",
        "    print (\"Hexadecimal number is: \", hex(decimal))  \n",
        "\n",
        "decimal1 = int (input (\" Enter the Decimal Number: \"))  \n",
        "decimal_into_binary(decimal1)  \n",
        "decimal_into_octal(decimal1)  \n",
        "decimal_into_hexadecimal(decimal1)  "
      ],
      "metadata": {
        "colab": {
          "base_uri": "https://localhost:8080/"
        },
        "id": "iC4WM6qC4Frv",
        "outputId": "b5ea131e-bc54-4ce0-f89a-63f080ae2aef"
      },
      "execution_count": null,
      "outputs": [
        {
          "output_type": "stream",
          "name": "stdout",
          "text": [
            " Enter the Decimal Number: 12\n",
            "Binary number is:  0b1100\n",
            "Octal number is:  0o14\n",
            "Hexadecimal number is:  0xc\n"
          ]
        }
      ]
    },
    {
      "cell_type": "code",
      "source": [
        "#Python Program to Solve Quadratic Equation\n",
        "\n",
        "import math  \n",
        "  \n",
        "# function for finding roots  \n",
        "def findRoots(a, b, c):  \n",
        "  \n",
        "    dis_form = b * b - 4 * a * c  \n",
        "    sqrt_val = math.sqrt(abs(dis_form))  \n",
        "  \n",
        "  \n",
        "    if dis_form > 0:  \n",
        "        print(\" real and different roots \")  \n",
        "        print((-b + sqrt_val) / (2 * a))  \n",
        "        print((-b - sqrt_val) / (2 * a))  \n",
        "  \n",
        "    elif dis_form == 0:  \n",
        "        print(\" real and same roots\")  \n",
        "        print(-b / (2 * a))  \n",
        "  \n",
        "  \n",
        "    else:  \n",
        "        print(\"Complex Roots\")  \n",
        "        print(- b / (2 * a), \" + i\", sqrt_val)  \n",
        "        print(- b / (2 * a), \" - i\", sqrt_val)  \n",
        "  \n",
        "  \n",
        "a = int(input('Enter a:'))  \n",
        "b = int(input('Enter b:'))  \n",
        "c = int(input('Enter c:'))  \n",
        "  \n",
        "# If a is 0, then incorrect equation  \n",
        "if a == 0:  \n",
        "    print(\"Input correct quadratic equation\")  \n",
        "  \n",
        "else:  \n",
        "    findRoots(a, b, c)  "
      ],
      "metadata": {
        "colab": {
          "base_uri": "https://localhost:8080/"
        },
        "id": "z5v95xlz0_kX",
        "outputId": "e8c69ae5-030a-4342-9e3e-bfb656f7c1e2"
      },
      "execution_count": null,
      "outputs": [
        {
          "output_type": "stream",
          "name": "stdout",
          "text": [
            "Enter a:7\n",
            "Enter b:5\n",
            "Enter c:2\n",
            "Complex Roots\n",
            "-0.35714285714285715  + i 5.5677643628300215\n",
            "-0.35714285714285715  - i 5.5677643628300215\n"
          ]
        }
      ]
    },
    {
      "cell_type": "code",
      "source": [
        "# Python program for finding out the factorial of given number\n",
        "\n",
        "def factorial(n):\n",
        "    if n < 0:\n",
        "        return 0\n",
        "    elif n == 0 or n == 1:\n",
        "        return 1\n",
        "    else:\n",
        "        fact = 1\n",
        "        while(n > 1):\n",
        "            fact *= n\n",
        "            n -= 1\n",
        "        return fact\n",
        " \n",
        "num = 5\n",
        "print(\"Factorial of\", num, \"is\", factorial(num))\n"
      ],
      "metadata": {
        "colab": {
          "base_uri": "https://localhost:8080/"
        },
        "id": "IFxtXq6D1ZRt",
        "outputId": "6903980e-dda3-4491-df6a-380adfed1f4a"
      },
      "execution_count": null,
      "outputs": [
        {
          "output_type": "stream",
          "name": "stdout",
          "text": [
            "Factorial of 5 is 120\n"
          ]
        }
      ]
    },
    {
      "cell_type": "code",
      "source": [
        "# Python Program to Print the Fibonacci sequence\n",
        "\n",
        "def Fibonacci(n):\n",
        "\n",
        "\tif n < 0:\n",
        "\t\tprint(\"Incorrect input\")\n",
        "\telif n == 0:\n",
        "\t\treturn 0\n",
        "\telif n == 1 or n == 2:\n",
        "\t\treturn 1\n",
        "\telse:\n",
        "\t\treturn Fibonacci(n-1) + Fibonacci(n-2)\n",
        "\n",
        "\n",
        "print(Fibonacci(9))\n"
      ],
      "metadata": {
        "colab": {
          "base_uri": "https://localhost:8080/"
        },
        "id": "cxasiHs63D_a",
        "outputId": "d3b3c088-1c61-4188-e798-da1deee451dd"
      },
      "execution_count": null,
      "outputs": [
        {
          "output_type": "stream",
          "name": "stdout",
          "text": [
            "34\n"
          ]
        }
      ]
    },
    {
      "cell_type": "code",
      "source": [
        "# Python program to determine whether the number is Armstrong number or not\n",
        "\n",
        "\n",
        "def power(x, y):\n",
        "\t\n",
        "\tif y == 0:\n",
        "\t\treturn 1\n",
        "\tif y % 2 == 0:\n",
        "\t\treturn power(x, y // 2) * power(x, y // 2)\n",
        "\treturn x * power(x, y // 2) * power(x, y // 2)\n",
        "\n",
        "def order(x):\n",
        "\n",
        "\tn = 0\n",
        "\twhile (x != 0):\n",
        "\t\tn = n + 1\n",
        "\t\tx = x // 10\n",
        "\treturn n\n",
        "\n",
        "def isArmstrong(x):\n",
        "\t\n",
        "\tn = order(x)\n",
        "\ttemp = x\n",
        "\tsum1 = 0\n",
        "\twhile (temp != 0):\n",
        "\t\tr = temp % 10\n",
        "\t\tsum1 = sum1 + power(r, n)\n",
        "\t\ttemp = temp // 10\n",
        "\treturn (sum1 == x)\n",
        "\n",
        "x = 153\n",
        "print(isArmstrong(x))\n",
        "\n",
        "x = 1253\n",
        "print(isArmstrong(x))\n"
      ],
      "metadata": {
        "colab": {
          "base_uri": "https://localhost:8080/"
        },
        "id": "1E2XGHa_3gjH",
        "outputId": "1f64b3c4-ef30-4c06-b1b4-22534194a297"
      },
      "execution_count": null,
      "outputs": [
        {
          "output_type": "stream",
          "name": "stdout",
          "text": [
            "True\n",
            "False\n"
          ]
        }
      ]
    },
    {
      "cell_type": "code",
      "source": [
        "# Program to make a simple calculator\n",
        "\n",
        "# Adds two numbers\n",
        "def add(x, y):\n",
        "    return x + y\n",
        "\n",
        "# Subtracts two numbers\n",
        "def subtract(x, y):\n",
        "    return x - y\n",
        "\n",
        "# Multiplies two numbers\n",
        "def multiply(x, y):\n",
        "    return x * y\n",
        "\n",
        "# Divides two numbers\n",
        "def divide(x, y):\n",
        "    return x / y\n",
        "\n",
        "\n",
        "print(\"Select operation.\")\n",
        "print(\"1.Add\")\n",
        "print(\"2.Subtract\")\n",
        "print(\"3.Multiply\")\n",
        "print(\"4.Divide\")\n",
        "\n",
        "while True:\n",
        "    choice = input(\"Enter choice(1/2/3/4): \")\n",
        "\n",
        "    if choice in ('1', '2', '3', '4'):\n",
        "        num1 = float(input(\"Enter first number: \"))\n",
        "        num2 = float(input(\"Enter second number: \"))\n",
        "\n",
        "        if choice == '1':\n",
        "            print(num1, \"+\", num2, \"=\", add(num1, num2))\n",
        "\n",
        "        elif choice == '2':\n",
        "            print(num1, \"-\", num2, \"=\", subtract(num1, num2))\n",
        "\n",
        "        elif choice == '3':\n",
        "            print(num1, \"*\", num2, \"=\", multiply(num1, num2))\n",
        "\n",
        "        elif choice == '4':\n",
        "            print(num1, \"/\", num2, \"=\", divide(num1, num2))\n",
        "\n",
        "        next_calculation = input(\"Let's do next calculation? (yes/no): \")\n",
        "        if next_calculation == \"no\":\n",
        "          break\n",
        "    \n",
        "    else:\n",
        "        print(\"Invalid Input\")"
      ],
      "metadata": {
        "colab": {
          "base_uri": "https://localhost:8080/"
        },
        "id": "M39FcytN31rP",
        "outputId": "7e3320e5-2a10-4934-8cbd-4bd1bf1d234a"
      },
      "execution_count": null,
      "outputs": [
        {
          "name": "stdout",
          "output_type": "stream",
          "text": [
            "Select operation.\n",
            "1.Add\n",
            "2.Subtract\n",
            "3.Multiply\n",
            "4.Divide\n",
            "Enter choice(1/2/3/4): 2\n",
            "Enter first number: 4\n",
            "Enter second number: 5\n",
            "4.0 - 5.0 = -1.0\n",
            "Let's do next calculation? (yes/no): ni\n",
            "Enter choice(1/2/3/4): 1\n",
            "Enter first number: 1\n",
            "Enter second number: 1\n",
            "1.0 + 1.0 = 2.0\n",
            "Let's do next calculation? (yes/no): no\n"
          ]
        }
      ]
    },
    {
      "cell_type": "code",
      "source": [],
      "metadata": {
        "id": "_Sp5V5M37ZvI"
      },
      "execution_count": null,
      "outputs": []
    },
    {
      "cell_type": "code",
      "source": [
        "#Python Program to Check the File Size\n",
        "import os\n",
        "\n",
        "file_stat = os.stat('random_text.txt')\n",
        "print(file_stat.st_size)"
      ],
      "metadata": {
        "colab": {
          "base_uri": "https://localhost:8080/"
        },
        "id": "Fy03UPXB5Nve",
        "outputId": "1ad46375-4ab8-4c16-cd68-8097dec6c29d"
      },
      "execution_count": null,
      "outputs": [
        {
          "output_type": "stream",
          "name": "stdout",
          "text": [
            "0\n"
          ]
        }
      ]
    },
    {
      "cell_type": "code",
      "source": [
        "#Python Program to Extract Extension From the File Name\n",
        "\n",
        "import os\n",
        "file_details = os.path.splitext('radom_text.txt')\n",
        "print(file_details)\n",
        "print(file_details[1])"
      ],
      "metadata": {
        "colab": {
          "base_uri": "https://localhost:8080/"
        },
        "id": "NSZXe8Zy6fss",
        "outputId": "1cd7bf51-18ff-41f0-e9e9-98be6debd547"
      },
      "execution_count": null,
      "outputs": [
        {
          "output_type": "stream",
          "name": "stdout",
          "text": [
            "('radom_text', '.txt')\n",
            ".txt\n"
          ]
        }
      ]
    },
    {
      "cell_type": "code",
      "source": [
        "#Python Program to Copy a File\n",
        "\n",
        "from shutil import copyfile\n",
        "copyfile(\"random_text.txt\", \"random_text_copy.txt\")"
      ],
      "metadata": {
        "colab": {
          "base_uri": "https://localhost:8080/",
          "height": 36
        },
        "id": "b2XiK41A6m_h",
        "outputId": "8d08fc30-42ca-4c71-caa9-a4333f64f50e"
      },
      "execution_count": null,
      "outputs": [
        {
          "output_type": "execute_result",
          "data": {
            "text/plain": [
              "'random_text_copy.txt'"
            ],
            "application/vnd.google.colaboratory.intrinsic+json": {
              "type": "string"
            }
          },
          "metadata": {},
          "execution_count": 17
        }
      ]
    },
    {
      "cell_type": "code",
      "source": [
        "# Bubble sort using function and files\n",
        "\n",
        "def bubblesort(list):\n",
        "    index = len(mylist)\n",
        "    n = index - 1\n",
        "\n",
        "    for i in range(index - 1):\n",
        "        for j in range(n):\n",
        "            if mylist[j] > mylist[j+1]:\n",
        "                mylist[j], mylist[j+1] = mylist[j+1], mylist[j]\n",
        "                File.write(str(mylist) + \"\\n\")\n",
        "        n = n - 1\n",
        "\n",
        "File = open(\"bubble_sort.txt\", 'w')\n",
        "    \n",
        "mylist = [3,1,9,5,3,7,2]\n",
        "bubblesort(mylist)\n",
        "\n",
        "File.close()"
      ],
      "metadata": {
        "id": "9xxb9Q8Z7BRX"
      },
      "execution_count": null,
      "outputs": []
    },
    {
      "cell_type": "code",
      "source": [],
      "metadata": {
        "id": "t12wK74_7VaR"
      },
      "execution_count": null,
      "outputs": []
    }
  ]
}